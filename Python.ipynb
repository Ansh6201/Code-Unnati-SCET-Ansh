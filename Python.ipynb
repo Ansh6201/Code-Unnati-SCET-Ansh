{
 "cells": [
  {
   "cell_type": "markdown",
   "id": "9b68a8ce",
   "metadata": {},
   "source": [
    "# Basic Math Operations"
   ]
  },
  {
   "cell_type": "code",
   "execution_count": 1,
   "id": "441b3f38",
   "metadata": {},
   "outputs": [
    {
     "data": {
      "text/plain": [
       "8"
      ]
     },
     "execution_count": 1,
     "metadata": {},
     "output_type": "execute_result"
    }
   ],
   "source": [
    "6+2"
   ]
  },
  {
   "cell_type": "code",
   "execution_count": 2,
   "id": "fc65e619",
   "metadata": {},
   "outputs": [
    {
     "data": {
      "text/plain": [
       "4"
      ]
     },
     "execution_count": 2,
     "metadata": {},
     "output_type": "execute_result"
    }
   ],
   "source": [
    "6-2"
   ]
  },
  {
   "cell_type": "code",
   "execution_count": 3,
   "id": "cc598572",
   "metadata": {},
   "outputs": [
    {
     "data": {
      "text/plain": [
       "12"
      ]
     },
     "execution_count": 3,
     "metadata": {},
     "output_type": "execute_result"
    }
   ],
   "source": [
    "6*2"
   ]
  },
  {
   "cell_type": "code",
   "execution_count": 4,
   "id": "5a870810",
   "metadata": {},
   "outputs": [
    {
     "data": {
      "text/plain": [
       "36"
      ]
     },
     "execution_count": 4,
     "metadata": {},
     "output_type": "execute_result"
    }
   ],
   "source": [
    "6**2"
   ]
  },
  {
   "cell_type": "code",
   "execution_count": 5,
   "id": "d5f30731",
   "metadata": {},
   "outputs": [
    {
     "data": {
      "text/plain": [
       "3.0"
      ]
     },
     "execution_count": 5,
     "metadata": {},
     "output_type": "execute_result"
    }
   ],
   "source": [
    "6/2"
   ]
  },
  {
   "cell_type": "code",
   "execution_count": 6,
   "id": "4055996c",
   "metadata": {},
   "outputs": [
    {
     "data": {
      "text/plain": [
       "0"
      ]
     },
     "execution_count": 6,
     "metadata": {},
     "output_type": "execute_result"
    }
   ],
   "source": [
    "6%2"
   ]
  },
  {
   "cell_type": "code",
   "execution_count": 7,
   "id": "0ce55783",
   "metadata": {},
   "outputs": [
    {
     "data": {
      "text/plain": [
       "5"
      ]
     },
     "execution_count": 7,
     "metadata": {},
     "output_type": "execute_result"
    }
   ],
   "source": [
    "6+2-3"
   ]
  },
  {
   "cell_type": "code",
   "execution_count": 8,
   "id": "c974f942",
   "metadata": {},
   "outputs": [
    {
     "data": {
      "text/plain": [
       "2.2222222222222223"
      ]
     },
     "execution_count": 8,
     "metadata": {},
     "output_type": "execute_result"
    }
   ],
   "source": [
    "4*5/9"
   ]
  },
  {
   "cell_type": "code",
   "execution_count": 9,
   "id": "724e3386",
   "metadata": {},
   "outputs": [
    {
     "data": {
      "text/plain": [
       "24"
      ]
     },
     "execution_count": 9,
     "metadata": {},
     "output_type": "execute_result"
    }
   ],
   "source": [
    "8+3*6-2"
   ]
  },
  {
   "cell_type": "code",
   "execution_count": 10,
   "id": "e4e52441",
   "metadata": {},
   "outputs": [
    {
     "data": {
      "text/plain": [
       "2.0"
      ]
     },
     "execution_count": 10,
     "metadata": {},
     "output_type": "execute_result"
    }
   ],
   "source": [
    "10-5/5*8"
   ]
  },
  {
   "cell_type": "code",
   "execution_count": 13,
   "id": "c93091a0",
   "metadata": {},
   "outputs": [
    {
     "name": "stdout",
     "output_type": "stream",
     "text": [
      "Hello Ansh\n"
     ]
    }
   ],
   "source": [
    "print(\"Hello Ansh\")"
   ]
  },
  {
   "cell_type": "markdown",
   "id": "ea731f94",
   "metadata": {},
   "source": [
    "# Variables"
   ]
  },
  {
   "cell_type": "code",
   "execution_count": 14,
   "id": "040cbb61",
   "metadata": {},
   "outputs": [],
   "source": [
    "A=62\n",
    "B=20.01"
   ]
  },
  {
   "cell_type": "code",
   "execution_count": 15,
   "id": "1ca219d6",
   "metadata": {},
   "outputs": [
    {
     "data": {
      "text/plain": [
       "62"
      ]
     },
     "execution_count": 15,
     "metadata": {},
     "output_type": "execute_result"
    }
   ],
   "source": [
    "A"
   ]
  },
  {
   "cell_type": "code",
   "execution_count": 16,
   "id": "4d7748d7",
   "metadata": {},
   "outputs": [
    {
     "data": {
      "text/plain": [
       "20.01"
      ]
     },
     "execution_count": 16,
     "metadata": {},
     "output_type": "execute_result"
    }
   ],
   "source": [
    "B"
   ]
  },
  {
   "cell_type": "code",
   "execution_count": 17,
   "id": "647bce84",
   "metadata": {},
   "outputs": [
    {
     "name": "stdout",
     "output_type": "stream",
     "text": [
      "62\n"
     ]
    }
   ],
   "source": [
    "print(A)"
   ]
  },
  {
   "cell_type": "code",
   "execution_count": 18,
   "id": "6956d66e",
   "metadata": {},
   "outputs": [
    {
     "data": {
      "text/plain": [
       "float"
      ]
     },
     "execution_count": 18,
     "metadata": {},
     "output_type": "execute_result"
    }
   ],
   "source": [
    "type(B)"
   ]
  },
  {
   "cell_type": "code",
   "execution_count": 19,
   "id": "c09d26e9",
   "metadata": {},
   "outputs": [
    {
     "data": {
      "text/plain": [
       "int"
      ]
     },
     "execution_count": 19,
     "metadata": {},
     "output_type": "execute_result"
    }
   ],
   "source": [
    "type(A)"
   ]
  },
  {
   "cell_type": "code",
   "execution_count": 20,
   "id": "d22b551e",
   "metadata": {},
   "outputs": [],
   "source": [
    "a=\"ANSH\""
   ]
  },
  {
   "cell_type": "code",
   "execution_count": 21,
   "id": "730c94b6",
   "metadata": {},
   "outputs": [
    {
     "data": {
      "text/plain": [
       "'ANSH'"
      ]
     },
     "execution_count": 21,
     "metadata": {},
     "output_type": "execute_result"
    }
   ],
   "source": [
    "a"
   ]
  },
  {
   "cell_type": "code",
   "execution_count": 22,
   "id": "750279b0",
   "metadata": {},
   "outputs": [
    {
     "data": {
      "text/plain": [
       "str"
      ]
     },
     "execution_count": 22,
     "metadata": {},
     "output_type": "execute_result"
    }
   ],
   "source": [
    "type(a)"
   ]
  },
  {
   "cell_type": "code",
   "execution_count": 23,
   "id": "cb9cebb6",
   "metadata": {},
   "outputs": [],
   "source": [
    "b=True"
   ]
  },
  {
   "cell_type": "code",
   "execution_count": 24,
   "id": "b4d766c5",
   "metadata": {},
   "outputs": [
    {
     "data": {
      "text/plain": [
       "True"
      ]
     },
     "execution_count": 24,
     "metadata": {},
     "output_type": "execute_result"
    }
   ],
   "source": [
    "b"
   ]
  },
  {
   "cell_type": "code",
   "execution_count": 25,
   "id": "992dc0f8",
   "metadata": {},
   "outputs": [
    {
     "data": {
      "text/plain": [
       "bool"
      ]
     },
     "execution_count": 25,
     "metadata": {},
     "output_type": "execute_result"
    }
   ],
   "source": [
    "type(b)"
   ]
  },
  {
   "cell_type": "markdown",
   "id": "0b98eb21",
   "metadata": {},
   "source": [
    "# Math operations on Variables"
   ]
  },
  {
   "cell_type": "code",
   "execution_count": 26,
   "id": "d316b3f6",
   "metadata": {},
   "outputs": [],
   "source": [
    "a=6\n",
    "b=62\n",
    "c=20\n",
    "d=1"
   ]
  },
  {
   "cell_type": "code",
   "execution_count": 27,
   "id": "8b28da0c",
   "metadata": {},
   "outputs": [
    {
     "data": {
      "text/plain": [
       "89"
      ]
     },
     "execution_count": 27,
     "metadata": {},
     "output_type": "execute_result"
    }
   ],
   "source": [
    "a+b+c+d"
   ]
  },
  {
   "cell_type": "code",
   "execution_count": 28,
   "id": "c1a4fa48",
   "metadata": {},
   "outputs": [
    {
     "data": {
      "text/plain": [
       "-77"
      ]
     },
     "execution_count": 28,
     "metadata": {},
     "output_type": "execute_result"
    }
   ],
   "source": [
    "a-b-c-d"
   ]
  },
  {
   "cell_type": "code",
   "execution_count": 29,
   "id": "7e84332d",
   "metadata": {},
   "outputs": [
    {
     "data": {
      "text/plain": [
       "1245"
      ]
     },
     "execution_count": 29,
     "metadata": {},
     "output_type": "execute_result"
    }
   ],
   "source": [
    "a+b*c-d"
   ]
  },
  {
   "cell_type": "code",
   "execution_count": 30,
   "id": "d80bf293",
   "metadata": {},
   "outputs": [
    {
     "data": {
      "text/plain": [
       "4"
      ]
     },
     "execution_count": 30,
     "metadata": {},
     "output_type": "execute_result"
    }
   ],
   "source": [
    "a-b%c*d"
   ]
  },
  {
   "cell_type": "markdown",
   "id": "cea8b297",
   "metadata": {},
   "source": [
    "# Take Input from User"
   ]
  },
  {
   "cell_type": "code",
   "execution_count": 31,
   "id": "77414e23",
   "metadata": {},
   "outputs": [
    {
     "name": "stdout",
     "output_type": "stream",
     "text": [
      "Enter the value of x: 62\n"
     ]
    }
   ],
   "source": [
    "x=int(input(\"Enter the value of x: \"))"
   ]
  },
  {
   "cell_type": "code",
   "execution_count": 32,
   "id": "dc2d1a7f",
   "metadata": {},
   "outputs": [
    {
     "data": {
      "text/plain": [
       "62"
      ]
     },
     "execution_count": 32,
     "metadata": {},
     "output_type": "execute_result"
    }
   ],
   "source": [
    "x"
   ]
  },
  {
   "cell_type": "code",
   "execution_count": 33,
   "id": "1323caee",
   "metadata": {},
   "outputs": [
    {
     "name": "stdout",
     "output_type": "stream",
     "text": [
      "Enter the value of x:6\n",
      "Enter the value of y:2\n",
      "36\n"
     ]
    }
   ],
   "source": [
    "x=int(input(\"Enter the value of x:\"))\n",
    "y=int(input(\"Enter the value of y:\"))\n",
    "z=x**y #x^y\n",
    "print(z)"
   ]
  },
  {
   "cell_type": "markdown",
   "id": "24935c11",
   "metadata": {},
   "source": [
    "# String Concatenation"
   ]
  },
  {
   "cell_type": "code",
   "execution_count": 35,
   "id": "73c24ab1",
   "metadata": {},
   "outputs": [],
   "source": [
    "str1=\"Ansh\"\n",
    "str2=\"Shah\""
   ]
  },
  {
   "cell_type": "code",
   "execution_count": 36,
   "id": "93b50588",
   "metadata": {},
   "outputs": [
    {
     "data": {
      "text/plain": [
       "'Ansh'"
      ]
     },
     "execution_count": 36,
     "metadata": {},
     "output_type": "execute_result"
    }
   ],
   "source": [
    "str1"
   ]
  },
  {
   "cell_type": "code",
   "execution_count": 37,
   "id": "aed63214",
   "metadata": {},
   "outputs": [
    {
     "data": {
      "text/plain": [
       "'Shah'"
      ]
     },
     "execution_count": 37,
     "metadata": {},
     "output_type": "execute_result"
    }
   ],
   "source": [
    "str2"
   ]
  },
  {
   "cell_type": "code",
   "execution_count": 38,
   "id": "bbd718fa",
   "metadata": {},
   "outputs": [
    {
     "data": {
      "text/plain": [
       "str"
      ]
     },
     "execution_count": 38,
     "metadata": {},
     "output_type": "execute_result"
    }
   ],
   "source": [
    "type(str1)"
   ]
  },
  {
   "cell_type": "code",
   "execution_count": 39,
   "id": "db6de18a",
   "metadata": {},
   "outputs": [],
   "source": [
    "str3=str1 + str2"
   ]
  },
  {
   "cell_type": "code",
   "execution_count": 40,
   "id": "6a6d0043",
   "metadata": {},
   "outputs": [
    {
     "data": {
      "text/plain": [
       "'AnshShah'"
      ]
     },
     "execution_count": 40,
     "metadata": {},
     "output_type": "execute_result"
    }
   ],
   "source": [
    "str3"
   ]
  },
  {
   "cell_type": "code",
   "execution_count": 41,
   "id": "535024f0",
   "metadata": {},
   "outputs": [],
   "source": [
    "str4=\" \""
   ]
  },
  {
   "cell_type": "code",
   "execution_count": 42,
   "id": "a279d9d3",
   "metadata": {},
   "outputs": [],
   "source": [
    "str5= str1 + str4 + str2"
   ]
  },
  {
   "cell_type": "code",
   "execution_count": 43,
   "id": "8a71babd",
   "metadata": {},
   "outputs": [
    {
     "data": {
      "text/plain": [
       "'Ansh Shah'"
      ]
     },
     "execution_count": 43,
     "metadata": {},
     "output_type": "execute_result"
    }
   ],
   "source": [
    "str5"
   ]
  },
  {
   "cell_type": "code",
   "execution_count": 46,
   "id": "e62806f4",
   "metadata": {},
   "outputs": [],
   "source": [
    "str6= str1 + \" \" + str2"
   ]
  },
  {
   "cell_type": "code",
   "execution_count": 47,
   "id": "a9c66e41",
   "metadata": {},
   "outputs": [
    {
     "data": {
      "text/plain": [
       "'Ansh Shah'"
      ]
     },
     "execution_count": 47,
     "metadata": {},
     "output_type": "execute_result"
    }
   ],
   "source": [
    "str6"
   ]
  },
  {
   "cell_type": "markdown",
   "id": "a8806e8e",
   "metadata": {},
   "source": [
    "# String Slicing"
   ]
  },
  {
   "cell_type": "code",
   "execution_count": 49,
   "id": "1c74f6a6",
   "metadata": {},
   "outputs": [
    {
     "data": {
      "text/plain": [
       "'A'"
      ]
     },
     "execution_count": 49,
     "metadata": {},
     "output_type": "execute_result"
    }
   ],
   "source": [
    "#To get a particular part of the string\n",
    "str5[0]"
   ]
  },
  {
   "cell_type": "code",
   "execution_count": 50,
   "id": "c30fc2b1",
   "metadata": {},
   "outputs": [
    {
     "data": {
      "text/plain": [
       "'n'"
      ]
     },
     "execution_count": 50,
     "metadata": {},
     "output_type": "execute_result"
    }
   ],
   "source": [
    "str5[1]"
   ]
  },
  {
   "cell_type": "code",
   "execution_count": 52,
   "id": "066f8739",
   "metadata": {},
   "outputs": [
    {
     "data": {
      "text/plain": [
       "'s'"
      ]
     },
     "execution_count": 52,
     "metadata": {},
     "output_type": "execute_result"
    }
   ],
   "source": [
    "str5[2]"
   ]
  },
  {
   "cell_type": "code",
   "execution_count": 51,
   "id": "a6dfc093",
   "metadata": {},
   "outputs": [
    {
     "data": {
      "text/plain": [
       "'h'"
      ]
     },
     "execution_count": 51,
     "metadata": {},
     "output_type": "execute_result"
    }
   ],
   "source": [
    "str5[3]"
   ]
  },
  {
   "cell_type": "code",
   "execution_count": 54,
   "id": "dd54b824",
   "metadata": {},
   "outputs": [
    {
     "data": {
      "text/plain": [
       "'Ansh'"
      ]
     },
     "execution_count": 54,
     "metadata": {},
     "output_type": "execute_result"
    }
   ],
   "source": [
    "str5[0:4]"
   ]
  },
  {
   "cell_type": "code",
   "execution_count": 57,
   "id": "82d2ba0e",
   "metadata": {},
   "outputs": [
    {
     "data": {
      "text/plain": [
       "'sh Sh'"
      ]
     },
     "execution_count": 57,
     "metadata": {},
     "output_type": "execute_result"
    }
   ],
   "source": [
    "str5[2:7]"
   ]
  },
  {
   "cell_type": "code",
   "execution_count": 58,
   "id": "f18dc646",
   "metadata": {},
   "outputs": [
    {
     "data": {
      "text/plain": [
       "'Ansh '"
      ]
     },
     "execution_count": 58,
     "metadata": {},
     "output_type": "execute_result"
    }
   ],
   "source": [
    "str5[:5] #First 5 letters"
   ]
  },
  {
   "cell_type": "code",
   "execution_count": 60,
   "id": "8e85a84b",
   "metadata": {},
   "outputs": [
    {
     "data": {
      "text/plain": [
       "' Shah'"
      ]
     },
     "execution_count": 60,
     "metadata": {},
     "output_type": "execute_result"
    }
   ],
   "source": [
    "str5[-5:] #Last 5 letters"
   ]
  },
  {
   "cell_type": "markdown",
   "id": "08ab0cbb",
   "metadata": {},
   "source": [
    "# Tuples in Python"
   ]
  },
  {
   "cell_type": "code",
   "execution_count": 61,
   "id": "20bc8a5e",
   "metadata": {},
   "outputs": [],
   "source": [
    "#To store different data types at a location without TypeCasting"
   ]
  },
  {
   "cell_type": "code",
   "execution_count": 62,
   "id": "5200cd58",
   "metadata": {},
   "outputs": [],
   "source": [
    "tup1=(\"Ansh\",62,\"Shah\",2001)"
   ]
  },
  {
   "cell_type": "code",
   "execution_count": 63,
   "id": "754e8678",
   "metadata": {},
   "outputs": [
    {
     "data": {
      "text/plain": [
       "('Ansh', 62, 'Shah', 2001)"
      ]
     },
     "execution_count": 63,
     "metadata": {},
     "output_type": "execute_result"
    }
   ],
   "source": [
    "tup1"
   ]
  },
  {
   "cell_type": "code",
   "execution_count": 64,
   "id": "5d301e85",
   "metadata": {},
   "outputs": [
    {
     "data": {
      "text/plain": [
       "'Ansh'"
      ]
     },
     "execution_count": 64,
     "metadata": {},
     "output_type": "execute_result"
    }
   ],
   "source": [
    "tup1[0]"
   ]
  },
  {
   "cell_type": "code",
   "execution_count": 65,
   "id": "577183e5",
   "metadata": {},
   "outputs": [
    {
     "data": {
      "text/plain": [
       "'Shah'"
      ]
     },
     "execution_count": 65,
     "metadata": {},
     "output_type": "execute_result"
    }
   ],
   "source": [
    "tup1[2]"
   ]
  },
  {
   "cell_type": "code",
   "execution_count": 67,
   "id": "d6e9f222",
   "metadata": {},
   "outputs": [
    {
     "data": {
      "text/plain": [
       "62"
      ]
     },
     "execution_count": 67,
     "metadata": {},
     "output_type": "execute_result"
    }
   ],
   "source": [
    "tup1[1]"
   ]
  },
  {
   "cell_type": "code",
   "execution_count": 68,
   "id": "34ecd1eb",
   "metadata": {},
   "outputs": [
    {
     "data": {
      "text/plain": [
       "(62, 'Shah', 2001)"
      ]
     },
     "execution_count": 68,
     "metadata": {},
     "output_type": "execute_result"
    }
   ],
   "source": [
    "tup1[1:4]"
   ]
  },
  {
   "cell_type": "code",
   "execution_count": 69,
   "id": "edeb353e",
   "metadata": {},
   "outputs": [],
   "source": [
    "tup2=(\"Wizard\",\"Hogwarts\")"
   ]
  },
  {
   "cell_type": "code",
   "execution_count": 70,
   "id": "c89b07d3",
   "metadata": {},
   "outputs": [],
   "source": [
    "tup3= tup1 + tup2"
   ]
  },
  {
   "cell_type": "code",
   "execution_count": 71,
   "id": "5e642dc1",
   "metadata": {},
   "outputs": [
    {
     "data": {
      "text/plain": [
       "('Ansh', 62, 'Shah', 2001, 'Wizard', 'Hogwarts')"
      ]
     },
     "execution_count": 71,
     "metadata": {},
     "output_type": "execute_result"
    }
   ],
   "source": [
    "tup3"
   ]
  },
  {
   "cell_type": "code",
   "execution_count": 72,
   "id": "a3f304f5",
   "metadata": {},
   "outputs": [
    {
     "data": {
      "text/plain": [
       "6"
      ]
     },
     "execution_count": 72,
     "metadata": {},
     "output_type": "execute_result"
    }
   ],
   "source": [
    "len(tup3)"
   ]
  },
  {
   "cell_type": "code",
   "execution_count": 75,
   "id": "dc96e74b",
   "metadata": {},
   "outputs": [
    {
     "data": {
      "text/plain": [
       "tuple"
      ]
     },
     "execution_count": 75,
     "metadata": {},
     "output_type": "execute_result"
    }
   ],
   "source": [
    "type(tup2)"
   ]
  },
  {
   "cell_type": "code",
   "execution_count": 73,
   "id": "98976d67",
   "metadata": {},
   "outputs": [],
   "source": [
    "#Objects cannot be removed from Tuple"
   ]
  },
  {
   "cell_type": "markdown",
   "id": "d80f276d",
   "metadata": {},
   "source": [
    "# List in Python"
   ]
  },
  {
   "cell_type": "code",
   "execution_count": 74,
   "id": "99281aed",
   "metadata": {},
   "outputs": [],
   "source": [
    "#Same as Tuple. Uses sqr brackets. Objects can be deleted from lists."
   ]
  },
  {
   "cell_type": "code",
   "execution_count": 76,
   "id": "249ccb5f",
   "metadata": {},
   "outputs": [],
   "source": [
    "lst1=[\"Witcher\",\"Fortnite\",\"OWLS\"]"
   ]
  },
  {
   "cell_type": "code",
   "execution_count": 77,
   "id": "f622b500",
   "metadata": {},
   "outputs": [
    {
     "data": {
      "text/plain": [
       "['Witcher', 'Fortnite', 'OWLS']"
      ]
     },
     "execution_count": 77,
     "metadata": {},
     "output_type": "execute_result"
    }
   ],
   "source": [
    "lst1"
   ]
  },
  {
   "cell_type": "code",
   "execution_count": 79,
   "id": "a6d5a80f",
   "metadata": {},
   "outputs": [],
   "source": [
    "lst1.remove(\"OWLS\")"
   ]
  },
  {
   "cell_type": "code",
   "execution_count": 80,
   "id": "f53e02ff",
   "metadata": {},
   "outputs": [
    {
     "data": {
      "text/plain": [
       "['Witcher', 'Fortnite']"
      ]
     },
     "execution_count": 80,
     "metadata": {},
     "output_type": "execute_result"
    }
   ],
   "source": [
    "lst1"
   ]
  },
  {
   "cell_type": "markdown",
   "id": "0b3f9bee",
   "metadata": {},
   "source": [
    "# Dictionary"
   ]
  },
  {
   "cell_type": "code",
   "execution_count": 81,
   "id": "667c0d74",
   "metadata": {},
   "outputs": [],
   "source": [
    "#Uses curly brackets. syntax : (\"key\":\"value\")"
   ]
  },
  {
   "cell_type": "code",
   "execution_count": 82,
   "id": "665343ae",
   "metadata": {},
   "outputs": [],
   "source": [
    "dict1={\"Dragon\":10,\"Ghoul\":8,\"Kelpie\":\"Newt\"}"
   ]
  },
  {
   "cell_type": "code",
   "execution_count": 83,
   "id": "ea80acbf",
   "metadata": {},
   "outputs": [
    {
     "data": {
      "text/plain": [
       "{'Dragon': 10, 'Ghoul': 8, 'Kelpie': 'Newt'}"
      ]
     },
     "execution_count": 83,
     "metadata": {},
     "output_type": "execute_result"
    }
   ],
   "source": [
    "dict1"
   ]
  },
  {
   "cell_type": "code",
   "execution_count": 84,
   "id": "25e8cf2c",
   "metadata": {},
   "outputs": [
    {
     "data": {
      "text/plain": [
       "dict"
      ]
     },
     "execution_count": 84,
     "metadata": {},
     "output_type": "execute_result"
    }
   ],
   "source": [
    "type(dict1)"
   ]
  },
  {
   "cell_type": "code",
   "execution_count": 86,
   "id": "6eb5dcf0",
   "metadata": {},
   "outputs": [
    {
     "name": "stdout",
     "output_type": "stream",
     "text": [
      "dict_keys(['Dragon', 'Ghoul', 'Kelpie'])\n"
     ]
    }
   ],
   "source": [
    "#Print only key \n",
    "print(dict1.keys())"
   ]
  },
  {
   "cell_type": "code",
   "execution_count": 87,
   "id": "148ecff1",
   "metadata": {},
   "outputs": [
    {
     "name": "stdout",
     "output_type": "stream",
     "text": [
      "dict_values([10, 8, 'Newt'])\n"
     ]
    }
   ],
   "source": [
    "#Print only values\n",
    "print(dict1.values())"
   ]
  },
  {
   "cell_type": "code",
   "execution_count": 88,
   "id": "98a90804",
   "metadata": {},
   "outputs": [
    {
     "data": {
      "text/plain": [
       "3"
      ]
     },
     "execution_count": 88,
     "metadata": {},
     "output_type": "execute_result"
    }
   ],
   "source": [
    "len(dict1)"
   ]
  },
  {
   "cell_type": "markdown",
   "id": "b2ea9dcd",
   "metadata": {},
   "source": [
    "# Library"
   ]
  },
  {
   "cell_type": "code",
   "execution_count": 89,
   "id": "a0ad6a4f",
   "metadata": {},
   "outputs": [],
   "source": [
    "from math import pi"
   ]
  },
  {
   "cell_type": "code",
   "execution_count": 90,
   "id": "369f8250",
   "metadata": {},
   "outputs": [
    {
     "data": {
      "text/plain": [
       "3.141592653589793"
      ]
     },
     "execution_count": 90,
     "metadata": {},
     "output_type": "execute_result"
    }
   ],
   "source": [
    "pi"
   ]
  },
  {
   "cell_type": "code",
   "execution_count": 91,
   "id": "8c8bfca5",
   "metadata": {},
   "outputs": [],
   "source": [
    "#Area of Circle\n",
    "r=10\n",
    "Area=pi*(r**2)"
   ]
  },
  {
   "cell_type": "code",
   "execution_count": 92,
   "id": "dcb97a8f",
   "metadata": {},
   "outputs": [
    {
     "data": {
      "text/plain": [
       "314.1592653589793"
      ]
     },
     "execution_count": 92,
     "metadata": {},
     "output_type": "execute_result"
    }
   ],
   "source": [
    "Area"
   ]
  },
  {
   "cell_type": "code",
   "execution_count": 95,
   "id": "7e19a37e",
   "metadata": {},
   "outputs": [
    {
     "name": "stdout",
     "output_type": "stream",
     "text": [
      "0\n",
      "1\n",
      "2\n",
      "3\n",
      "4\n",
      "5\n",
      "6\n",
      "7\n",
      "8\n",
      "9\n"
     ]
    }
   ],
   "source": [
    "#For Loop\n",
    "for i in range (10):\n",
    "    print(i)\n"
   ]
  },
  {
   "cell_type": "markdown",
   "id": "c11fad4c",
   "metadata": {},
   "source": [
    "# Python Conditional Statement"
   ]
  },
  {
   "cell_type": "code",
   "execution_count": 97,
   "id": "dc3f59f2",
   "metadata": {},
   "outputs": [
    {
     "name": "stdout",
     "output_type": "stream",
     "text": [
      "5  is a positive number\n"
     ]
    }
   ],
   "source": [
    "# if Statement\n",
    "num=5\n",
    "if num>0:\n",
    "    print(num,\" is a positive number\")"
   ]
  },
  {
   "cell_type": "code",
   "execution_count": 99,
   "id": "71845de4",
   "metadata": {},
   "outputs": [],
   "source": [
    "num=-5\n",
    "if num>0:\n",
    "    print(num,\" is a positive number\")\n",
    "#Will print nothing if condition is not satisfied.    "
   ]
  },
  {
   "cell_type": "code",
   "execution_count": 100,
   "id": "852c9aad",
   "metadata": {},
   "outputs": [
    {
     "name": "stdout",
     "output_type": "stream",
     "text": [
      "6  is a positive number\n"
     ]
    }
   ],
   "source": [
    "# if else statement\n",
    "num=6\n",
    "if num>0:\n",
    "    print(num,\" is a positive number\")\n",
    "else:\n",
    "    print(num,\" is a negative number\")"
   ]
  },
  {
   "cell_type": "code",
   "execution_count": 1,
   "id": "4c9eec41",
   "metadata": {},
   "outputs": [
    {
     "name": "stdout",
     "output_type": "stream",
     "text": [
      "Zero\n"
     ]
    }
   ],
   "source": [
    "# nested if Statement\n",
    "num=0\n",
    "if num>=0:\n",
    "    if num==0:\n",
    "        print(\"Zero\")\n",
    "    else:\n",
    "        print(\"Positive\")"
   ]
  },
  {
   "cell_type": "code",
   "execution_count": null,
   "id": "65eeadbe",
   "metadata": {},
   "outputs": [],
   "source": []
  }
 ],
 "metadata": {
  "kernelspec": {
   "display_name": "Python 3 (ipykernel)",
   "language": "python",
   "name": "python3"
  },
  "language_info": {
   "codemirror_mode": {
    "name": "ipython",
    "version": 3
   },
   "file_extension": ".py",
   "mimetype": "text/x-python",
   "name": "python",
   "nbconvert_exporter": "python",
   "pygments_lexer": "ipython3",
   "version": "3.9.12"
  }
 },
 "nbformat": 4,
 "nbformat_minor": 5
}
